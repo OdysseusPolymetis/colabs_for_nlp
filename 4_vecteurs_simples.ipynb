{
  "nbformat": 4,
  "nbformat_minor": 0,
  "metadata": {
    "colab": {
      "provenance": [],
      "authorship_tag": "ABX9TyMdqvSFBaDqx6M8RSJEQ7Ix",
      "include_colab_link": true
    },
    "kernelspec": {
      "name": "python3",
      "display_name": "Python 3"
    },
    "language_info": {
      "name": "python"
    }
  },
  "cells": [
    {
      "cell_type": "markdown",
      "metadata": {
        "id": "view-in-github",
        "colab_type": "text"
      },
      "source": [
        "<a href=\"https://colab.research.google.com/github/OdysseusPolymetis/colabs_for_nlp/blob/main/4_vecteurs_simples.ipynb\" target=\"_parent\"><img src=\"https://colab.research.google.com/assets/colab-badge.svg\" alt=\"Open In Colab\"/></a>"
      ]
    },
    {
      "cell_type": "code",
      "execution_count": null,
      "metadata": {
        "id": "UtOrPstVKIuk"
      },
      "outputs": [],
      "source": [
        "import os\n",
        "import stanza\n",
        "from gensim.models import Word2Vec\n",
        "\n",
        "stanza.download('fr')\n",
        "nlp = stanza.Pipeline('fr', processors='tokenize,pos,lemma', batch_size=64)  # Traitement par batch\n",
        "\n",
        "folder_path = \"/content/dossier\"\n",
        "\n",
        "def process_texts_in_batches(folder_path, batch_size=64):\n",
        "    all_sentences = []\n",
        "    texts = []\n",
        "    for filename in os.listdir(folder_path):\n",
        "        if filename.endswith(\".txt\"):\n",
        "            with open(os.path.join(folder_path, filename), 'r', encoding='utf-8') as file:\n",
        "                texts.append(file.read())\n",
        "\n",
        "    for i in range(0, len(texts), batch_size):\n",
        "        batch = texts[i:i+batch_size]\n",
        "        docs = nlp(batch)\n",
        "        for doc in docs:\n",
        "            for sentence in doc.sentences:\n",
        "                lemmatized_sentence = [word.lemma for word in sentence.words]\n",
        "                all_sentences.append(lemmatized_sentence)\n",
        "    return all_sentences\n",
        "\n",
        "sentences = process_texts_in_batches(folder_path)\n",
        "\n",
        "model = Word2Vec(sentences, vector_size=100, window=5, min_count=2, sg=1)\n",
        "model.save(\"word2vec_model.model\")\n",
        "\n",
        "def word_similarity(word1, word2):\n",
        "    return model.wv.similarity(word1, word2)\n",
        "\n",
        "def word_analogy(word1, word2, word3):\n",
        "    return model.wv.most_similar(positive=[word2, word3], negative=[word1])"
      ]
    }
  ]
}