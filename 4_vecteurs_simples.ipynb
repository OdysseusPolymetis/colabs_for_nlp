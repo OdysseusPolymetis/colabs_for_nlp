{
  "nbformat": 4,
  "nbformat_minor": 0,
  "metadata": {
    "colab": {
      "provenance": [],
      "gpuType": "T4",
      "authorship_tag": "ABX9TyOV6KJxjxHYr9wPMiK3g8gm",
      "include_colab_link": true
    },
    "kernelspec": {
      "name": "python3",
      "display_name": "Python 3"
    },
    "language_info": {
      "name": "python"
    },
    "accelerator": "GPU"
  },
  "cells": [
    {
      "cell_type": "markdown",
      "metadata": {
        "id": "view-in-github",
        "colab_type": "text"
      },
      "source": [
        "<a href=\"https://colab.research.google.com/github/OdysseusPolymetis/colabs_for_nlp/blob/main/4_vecteurs_simples.ipynb\" target=\"_parent\"><img src=\"https://colab.research.google.com/assets/colab-badge.svg\" alt=\"Open In Colab\"/></a>"
      ]
    },
    {
      "cell_type": "code",
      "source": [
        "!pip install stanza"
      ],
      "metadata": {
        "id": "p-kEJJftX0qB"
      },
      "execution_count": null,
      "outputs": []
    },
    {
      "cell_type": "markdown",
      "source": [
        "Pour cette partie-là, il vous faut créer un dossier \"dossier\" et y mettre vos txt."
      ],
      "metadata": {
        "id": "fbkifn7TcrC-"
      }
    },
    {
      "cell_type": "code",
      "execution_count": null,
      "metadata": {
        "id": "UtOrPstVKIuk"
      },
      "outputs": [],
      "source": [
        "import os\n",
        "import stanza\n",
        "from gensim.models import Word2Vec\n",
        "import numpy as np\n",
        "\n",
        "stanza.download('fr')\n",
        "nlp = stanza.Pipeline('fr', processors='tokenize,pos,lemma')\n",
        "\n",
        "folder_path = \"/content/dossier\"\n",
        "\n",
        "define_batch_size = 1024  # Taille dynamique du batch\n",
        "\n",
        "def batch_process_texts(folder_path, batch_size=define_batch_size):\n",
        "    all_sentences = []\n",
        "    texts = []\n",
        "    for filename in os.listdir(folder_path):\n",
        "        if filename.endswith(\".txt\"):\n",
        "            with open(os.path.join(folder_path, filename), 'r', encoding='utf-8') as file:\n",
        "                texts.append(file.read())\n",
        "\n",
        "    paragraphs = \"\\n\".join(texts).split(\"\\n\")\n",
        "    batches = [paragraphs[i:i + batch_size] for i in range(0, len(paragraphs), batch_size)]\n",
        "\n",
        "    for batch in batches:\n",
        "        batch_text = \"\\n\".join(batch)\n",
        "        doc = nlp(batch_text)\n",
        "        for sentence in doc.sentences:\n",
        "            lemmatized_sentence = [word.lemma for word in sentence.words if word.lemma is not None]\n",
        "            all_sentences.append(lemmatized_sentence)\n",
        "\n",
        "    return all_sentences\n",
        "\n",
        "sentences = batch_process_texts(folder_path, batch_size=define_batch_size)\n",
        "\n",
        "model = Word2Vec(sentences, vector_size=100, window=5, min_count=2, sg=1)\n",
        "model.save(\"word2vec_model.model\")\n",
        "\n",
        "def word_similarity(word1, word2):\n",
        "    return model.wv.similarity(word1, word2)\n",
        "\n",
        "def word_analogy(word1, word2, word3):\n",
        "    return model.wv.most_similar(positive=[word2, word3], negative=[word1])"
      ]
    },
    {
      "cell_type": "code",
      "source": [
        "def most_similar_words(word, topn=10):\n",
        "    try:\n",
        "        similar_words = model.wv.most_similar(word, topn=topn)\n",
        "        for w, sim in similar_words:\n",
        "            print(f\"{w}: {sim:.4f}\")\n",
        "    except KeyError:\n",
        "        print(f\"Le mot '{word}' n'est pas dans le vocabulaire du modèle.\")"
      ],
      "metadata": {
        "id": "LMYbgCHLcZPo"
      },
      "execution_count": 8,
      "outputs": []
    },
    {
      "cell_type": "code",
      "source": [
        "with open(\"vectors.tsv\", \"w\", encoding=\"utf-8\") as vec_file, open(\"metadata.tsv\", \"w\", encoding=\"utf-8\") as meta_file:\n",
        "    for word in model.wv.index_to_key:\n",
        "        vector = model.wv[word]\n",
        "        vec_file.write(\"\\t\".join([str(x) for x in vector]) + \"\\n\")\n",
        "        meta_file.write(word + \"\\n\")\n",
        "\n",
        "print(\"Export terminé : vectors.tsv et metadata.tsv sont prêts pour TensorFlow Projector.\")"
      ],
      "metadata": {
        "colab": {
          "base_uri": "https://localhost:8080/"
        },
        "id": "xPLAXzs7Xypg",
        "outputId": "47a80292-833c-45e4-99f0-c523c9660a3c"
      },
      "execution_count": 5,
      "outputs": [
        {
          "output_type": "stream",
          "name": "stdout",
          "text": [
            "Export terminé : vectors.tsv et metadata.tsv sont prêts pour TensorFlow Projector.\n"
          ]
        }
      ]
    },
    {
      "cell_type": "code",
      "source": [
        "word_similarity(\"esprit\", \"courage\")"
      ],
      "metadata": {
        "colab": {
          "base_uri": "https://localhost:8080/"
        },
        "id": "LbLQg1kGb_iy",
        "outputId": "a9ab2e37-1e53-44c9-d475-040fde632ee4"
      },
      "execution_count": 7,
      "outputs": [
        {
          "output_type": "execute_result",
          "data": {
            "text/plain": [
              "0.88316154"
            ]
          },
          "metadata": {},
          "execution_count": 7
        }
      ]
    },
    {
      "cell_type": "code",
      "source": [
        "most_similar_words(\"amour\", topn=10)"
      ],
      "metadata": {
        "colab": {
          "base_uri": "https://localhost:8080/"
        },
        "id": "0kVsQgX1cSTG",
        "outputId": "e87ae88f-2fac-412f-b838-7847b24f1154"
      },
      "execution_count": 13,
      "outputs": [
        {
          "output_type": "stream",
          "name": "stdout",
          "text": [
            "créature: 0.9343\n",
            "haine: 0.9331\n",
            "bonheur: 0.9309\n",
            "cause: 0.9306\n",
            "vengeance: 0.9290\n",
            "amoureux: 0.9274\n",
            "prouver: 0.9225\n",
            "démon: 0.9206\n",
            "histoire: 0.9170\n",
            "honte: 0.9165\n"
          ]
        }
      ]
    },
    {
      "cell_type": "code",
      "source": [],
      "metadata": {
        "id": "92eWhJ8Gcc6j"
      },
      "execution_count": null,
      "outputs": []
    }
  ]
}